{
 "cells": [
  {
   "cell_type": "markdown",
   "id": "f91e1b24-fc07-4d63-bb61-44ba7d3db675",
   "metadata": {},
   "source": [
    "# **Background Theory**: Numerical Solution of the Schrödinger Equation for a One Dimensional Quantum Well\n",
    "\n",
    "<i class=\"fa fa-book fa-2x\"></i><a href=\"../1quantumwell.ipynb\" style=\"font-size: 20px\"> Go back to the interactive notebook</a>\n",
    "\n",
    "**Source code:** https://github.com/osscar-org/quantum-mechanics/blob/master/notebook/quantum-mechanics/theory/theory_1quantumwell.ipynb\n",
    "\n",
    "<hr style=\"height:1px;border:none;color:#cccccc;background-color:#cccccc;\" />"
   ]
  },
  {
   "cell_type": "markdown",
   "id": "5f30164a-8486-483b-8561-cb6e2a7739de",
   "metadata": {},
   "source": [
    "## **Introduction**\n",
    "\n",
    "The Schrödinger equation is the core of quantum mechanics. \n",
    "Solving it, we can obtain chemical and physical properties of\n",
    "molecular and crystal systems. However, solving the Schrödinger equation\n",
    "for realistic systems is computationally very expensive. The analytical \n",
    "solution is only available for simple systems, such as a hydrogen atom.\n",
    "\n",
    "In this notebook, we demonstrate how to solve the (time-independent) Schrödinger \n",
    "equation numerically for a one-dimensional (1D) quantum well. The eigenvalues and \n",
    "eigenfunctions (wavefunctions) are solved by diagonalization of the\n",
    "Hamiltonian, written in matrix form on a regular grid along the 1D axis.\n",
    "Eigenfunctions and eigenvalues are shown interactively in the figure displayed in the interactive notebook."
   ]
  },
  {
   "cell_type": "markdown",
   "id": "5261153d-c6eb-4635-a03c-ed61ff6bf9b8",
   "metadata": {},
   "source": [
    "## **Schrödinger equation**\n",
    "\n",
    "The Schrödinger equation is named after the Austrian-Irish physicist Erwin Schrödinger.\n",
    "The (time-independent) Schrödinger equation for a one-dimensional system is:\n",
    "\n",
    "$$\\Large -\\frac{\\hbar^2}{2m}\\frac{d^2}{d x^2} \\psi_n(x) + V(x)\\psi_n(x) = E_n\\psi_n(x)$$\n",
    "\n",
    "where $\\psi_n(x)$ is the wavefunction of the 1D system, $\\hbar$ is the \n",
    "reduced Planck constant, $V(x)$ is the potential energy, $m$ is the mass \n",
    "of the particle, and $E_n$ is the energy of the system.\n",
    "By solving this eigenvalue problem, we can obtain \n",
    "the wavefunctions (or eigenfunctions) $\\psi_n(x)$ and the corresponding\n",
    "eigenenergies $E_n$, labelled by an integer index $n$."
   ]
  },
  {
   "cell_type": "markdown",
   "id": "8985a018-3cf0-497c-bc0e-b9d1d94aacce",
   "metadata": {},
   "source": [
    "## **Numerical method**\n",
    "    \n",
    "If we define the Hamiltonian operator $\\hat H$ as:\n",
    "    \n",
    "$$\\Large \\hat H = -\\frac{\\hbar^2}{2m}\\frac{d^2}{d x^2} + \\hat V$$\n",
    "    \n",
    "the Schrödinger equation can be written as:\n",
    "    \n",
    "$$\\Large \\hat H \\psi_n = E_n \\psi_n$$\n",
    "    \n",
    "In this form, it is clear that the Schrödinger equation is\n",
    "a typical eigenvalue equation. \n",
    "If we discretize the $x$ axis on a regular grid of $N$ points\n",
    "$(x_0,x_1,x_2,\\ldots,x_{N-1})$, then the wavefunction\n",
    "$\\psi_n(x)$ can be written as a vector:\n",
    "$\\psi_n(x) = [\\psi_n(x_0),\\psi_n(x_1),\\ldots,\\psi_n(x_{N-1})]$.\n",
    "In turn, we can discretize the Hamiltonian operator $\\hat H$ as a matrix,\n",
    "and then solve the equation by numerical matrix diagonalization.\n",
    "\n",
    "Let us briefly discuss how to diagonalize $\\hat H$, that is the sum of two terms.\n",
    "Discretizing the potential term is easy, since the potential energy is local.\n",
    "Therefore, the operation $\\hat V\\psi_n$ can be written as simply multiplying,\n",
    "at each grid point $x_i$, the wavefunction by the value of the potential at $x_i$\n",
    "(i.e., $V(x_i)$):\n",
    "\n",
    "    \n",
    "$$\\large \\hat V\\psi = [V(x_0)\\psi_n(x_0),V(x_1)\\psi_n(x_1),\\ldots,V(x_{N-1})\\psi_n(x_{N-1})]$$\n",
    "    \n",
    "that is, the $V$ operator is a diagonal matrix, where the diagonal values are obtained\n",
    "by discretizing the potential energy $V$ on the same grid.\n",
    "  \n",
    "In order to discretize the kinetic-energy term, we need to first understand how\n",
    "to discretize a second-derivative operator.\n",
    "If we consider a generic (discretized) 1D function $f(x) = [f_0,f_1,\\ldots,f_{N-1}]$, \n",
    "we want to write an approximation for its (discretized)\n",
    "second derivative $f''(x) = [f''_0,f''_1,\\ldots,f''_{N-1}]$.\n",
    "We can do this by approximating the derivative:\n",
    "    \n",
    "$$f''(x) = \\lim_{\\delta \\rightarrow 0} \\frac{f'(x+\\delta/2)- f'(x-\\delta/2))}{\\delta} = \\lim_{\\delta \\rightarrow 0} \\frac{f(x+\\delta) - 2f(x) + f(x-\\delta)}{\\delta^2} \\approx \\frac{f(x+\\Delta) - 2f(x) + f(x-\\Delta)}{\\Delta^2}$$\n",
    " \n",
    "\n",
    "where $\\Delta$ is the distance between to neighboring grid points ($\\Delta=x_1 - x_0$).\n",
    "Using this result, we can now write the second-derivative operator in matrix form as:\n",
    "\n",
    "$$\\large\n",
    "\\begin{pmatrix}f''_0 \\\\ f''_1 \\\\ f''_2 \\\\\\vdots \\\\ f''_{N-1}\\end{pmatrix} = \\frac{1}{\\Delta^2}\n",
    "\\begin{pmatrix} -2 & 1 & 0 & 0 & \\\\ 1 & -2 & 1 & 0 & \\\\ \n",
    "0& 1 & -2 & 1 &  \\\\ &  & \\ddots & \\ddots & \\ddots &\\\\\n",
    "&  & & 1 & -2 \\end{pmatrix}\\begin{pmatrix}f_0 \\\\ f_1 \\\\ f_2 \\\\\\vdots \\\\ f_{N-1}\\end{pmatrix}\n",
    "$$\n",
    "\n",
    "Putting all results together, the Hamiltonian operator $\\hat H$ can be thus\n",
    "written as:\n",
    "    \n",
    "$$\\large\n",
    "\\hat H = \n",
    "\\begin{pmatrix} -2C+ V_0 & C & 0 & & \\\\ C & -2C + V_1 & C & & \\\\ 0 & C & -2C + V_2 & & \\\\ & & &\\ddots & \\\\ &&&&-2C + V_{N-1}\\end{pmatrix}\n",
    "$$\n",
    "\n",
    "where $C = -\\frac{\\hbar^2}{2 m \\Delta^2}$.\n",
    "    \n",
    "Using this expression, is now easy to write a numerical form for $\\hat H$ for any potential\n",
    "term $V$ and use numerical routines to diagonalize the matrix and obtain eigenvalues and\n",
    "eigenfunctions. In this example, we use a square-well potential."
   ]
  },
  {
   "cell_type": "code",
   "execution_count": null,
   "id": "e93830d4-74ac-4645-a88f-347779583203",
   "metadata": {},
   "outputs": [],
   "source": []
  }
 ],
 "metadata": {
  "kernelspec": {
   "display_name": "Python 3 (ipykernel)",
   "language": "python",
   "name": "python3"
  },
  "language_info": {
   "codemirror_mode": {
    "name": "ipython",
    "version": 3
   },
   "file_extension": ".py",
   "mimetype": "text/x-python",
   "name": "python",
   "nbconvert_exporter": "python",
   "pygments_lexer": "ipython3",
   "version": "3.8.8"
  }
 },
 "nbformat": 4,
 "nbformat_minor": 5
}
