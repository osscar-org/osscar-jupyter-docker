{
 "cells": [
  {
   "cell_type": "markdown",
   "id": "b8c8e474-caf5-46ac-9ee2-cf69a2fed3f4",
   "metadata": {},
   "source": [
    "# **Background Theory**: Monte Carlo calculation of Pi\n",
    "\n",
    "<i class=\"fa fa-book fa-2x\"></i><a href=\"../monte_carlo_pi.ipynb\" style=\"font-size: 20px\"> Go back to the interactive notebook</a>\n",
    "\n",
    "**Source code:** https://github.com/osscar-org/quantum-mechanics/blob/master/notebook/statistical-mechanics/theory/theory_monte_carlo_pi.ipynb\n",
    "\n",
    "<hr style=\"height:1px;border:none;color:#cccccc;background-color:#cccccc;\" />"
   ]
  },
  {
   "cell_type": "markdown",
   "id": "d2501c1a-aee8-4af8-8c5b-a236126ba082",
   "metadata": {},
   "source": [
    "## **Introduction**\n",
    "\n",
    "<p style=\"text-align: justify;font-size:15px\">\n",
    "    In mathematics, Monte Carlo integration is a method used to carry out numerical integration\n",
    "    through use of random numbers. This method is particularly useful for high-dimensional\n",
    "    integration.\n",
    "</p>\n",
    "<details open>\n",
    "<summary style=\"font-size: 20px\">Monte Carlo integration</summary>\n",
    "    \n",
    "The idea behind Monte Carlo integration is to evaluate the integral using random sampling.\n",
    "Basically, it can be done by sampling N points independently from the integration range and using these to approximate the integral as a finite sum. For a multidimensional\n",
    "definite integral:\n",
    "\n",
    "$$\\large I = \\int_\\Omega f(x)dx$$\n",
    "     \n",
    "where $\\Omega$ has multidimensional volume:\n",
    "    \n",
    "$$\\large V = \\int_\\Omega dx$$\n",
    "\n",
    "Then sampling N points uniformly on $\\Omega$:\n",
    "\n",
    "$$\\large x_1, \\cdot \\cdot \\cdot, x_N \\in \\Omega$$\n",
    "    \n",
    "$I$ can be approximated by:\n",
    "    \n",
    "$$\\large I \\approx Q_N\\equiv V\\frac{1}{N}\\sum_{i=1}^{N}f(x_i) = V < f >$$\n",
    "\n",
    "A large number of samples is required in order to converge the value:\n",
    "  \n",
    "$$\\large \\lim_{N\\to \\infty} Q_N = I$$"
   ]
  },
  {
   "cell_type": "markdown",
   "id": "e0edd3b9-eec9-44c0-846d-ef3bf81a564f",
   "metadata": {},
   "source": [
    "<details open>\n",
    "<summary style=\"font-size: 20px\">Quasi-Monte Carlo integration</summary>\n",
    "\n",
    "Unlike the regular Monte Carlo method using pseudorandom numbers, \n",
    "the quasi-Monte Carlo method uses so-called low-discrepancy sequences.\n",
    "Otherwise, Monte Carlo and quasi-Monte Carlo methods have identical underlying principles. <br>\n",
    "\n",
    "Low-discrepancy sequences are also called quasi-random numbers. \n",
    "The discrepancy of a sequence is a measure of its uniformity.\n",
    "Consider generating 25 random points on a 2D grid (5x5). Pseudorandom\n",
    "number generation typically leads to a cluster of points. To understand this, one may not that true randomness may not appear random on the surface. For instance, a coin may be flipped and land on tails for a surprisingly large number of consecutive flips. This is the nature of randomness. On the other hand, in the present example, low-discrepancy sequences fill\n",
    "each box with one point as shown in the figure below. This results in ostensibly greater randomness and better sampling. Using\n",
    "low-discrepancy sequences consequently leads to faster rates of convergence.\n",
    "Quasi-Monte Carlo has a convergence rate that goes like O(1/N). While the\n",
    "rate for the regular Monte Carlo method is O($N^{-0.5}$).\n",
    "\n",
    "<div class=\"container\" style=\"text-align: center; width: 500px;\">\n",
    "  <img src=\"../images/random_numbers.png\" alt=\"Pseudorandom vs quasi-random numbers\" class=\"image\">\n",
    "  <div class=\"overlay\">Pseudorandom vs quasi-random numbers.</div>\n",
    "</div>\n",
    "    \n",
    "</details>"
   ]
  },
  {
   "cell_type": "markdown",
   "id": "d7605aff-5937-4687-ad6f-c43aa855b533",
   "metadata": {},
   "source": [
    "<details open>\n",
    "<summary style=\"font-size: 20px\">Calculation of Pi</summary>\n",
    "\n",
    "In the attached interactive notebook, we consider a simple Monte Carlo simulation\n",
    "to calculate the value of Pi. Suppose we have a square area which has sides of length 1 meter. We can throw coins into the \n",
    "square. The positions at which the coins fall are distributed randomly. We will have the follow relation:\n",
    "\n",
    "$$\\large \\frac{Area\\ of\\ a\\ Quarter\\ Circle}{Area\\ of\\ a\\ Square} \\approx \n",
    "\\frac{Number\\ of\\ Coins\\ inside\\ the\\ Circle}{Total\\ Number\\ of\\ Coins}$$\n",
    "    \n",
    "Hence, the value of Pi can be estimated as:\n",
    "    \n",
    "$$\\large \\pi \\approx 4*\\frac{Number\\ of\\ Coins\\ inside\\ the\\ Circle}{Total\\ Number\\ of\\ Coins}$$\n",
    "</details>"
   ]
  }
 ],
 "metadata": {
  "kernelspec": {
   "display_name": "Python 3 (ipykernel)",
   "language": "python",
   "name": "python3"
  },
  "language_info": {
   "codemirror_mode": {
    "name": "ipython",
    "version": 3
   },
   "file_extension": ".py",
   "mimetype": "text/x-python",
   "name": "python",
   "nbconvert_exporter": "python",
   "pygments_lexer": "ipython3",
   "version": "3.9.7"
  }
 },
 "nbformat": 4,
 "nbformat_minor": 5
}
