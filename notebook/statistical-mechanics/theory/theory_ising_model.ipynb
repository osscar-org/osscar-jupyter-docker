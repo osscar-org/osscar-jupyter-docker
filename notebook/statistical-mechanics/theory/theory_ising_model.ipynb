{
 "cells": [
  {
   "cell_type": "markdown",
   "id": "5e7a3b2c-f79d-451b-987a-cbec38f3873e",
   "metadata": {},
   "source": [
    "# **Background Theory**: Ising Model in 2D\n",
    "\n",
    "<i class=\"fa fa-book fa-2x\"></i><a href=\"../ising_model.ipynb\" style=\"font-size: 20px\"> Go back to the interactive notebook</a>\n",
    "\n",
    "**Source code:** https://github.com/osscar-org/quantum-mechanics/blob/master/notebook/statistical-mechanics/theory/theory_ising_model.ipynb\n",
    "\n",
    "<hr style=\"height:1px;border:none;color:#cccccc;background-color:#cccccc;\" />"
   ]
  },
  {
   "cell_type": "markdown",
   "id": "45f6b302-0a0f-4cd3-bdbc-f27eb123ca06",
   "metadata": {},
   "source": [
    "## The Ising Model\n",
    "Magnetism is an important physical property of materials.\n",
    "The Ising model is a simple and successful model to predict the net \n",
    "magnetization of a regular lattice of spins. Recently, it has been proven \n",
    "that it is actually a universal model beyond spin, and can also be applied to \n",
    "many other systems with similar model Hamiltonians \n",
    "(see e.g. <a href=\"https://science.sciencemag.org/content/351/6278/1180\">\n",
    "De las Cuevas, Cubitt, Science 351, 1180 (2016)</a>).\n",
    "\n",
    "In this notebook, we construct a two-dimensional (2D) square Ising model \n",
    "and simulate its statistical properties at various temperatures with the \n",
    "Monte Carlo method (using a Metropolis-Hastings algorithm).\n",
    "    \n",
    "In the Ising model, spins can be in one of only two states: up (+) or down (-). \n",
    "In addition, the spin-spin interactions are considered to be non-zero only \n",
    "between nearest neighbours (NN), as illustrated in the figure below.\n",
    "  \n",
    "<div class=\"container\" style=\"text-align: center; width: 250px;\">\n",
    "  <img src=\"../images/Ising_NN.svg\" alt=\"Nearest neighbours for a spin in a 2D lattice\" class=\"image\">\n",
    "  <div class=\"overlay\">In 2D, the gray spin has 4 nearest neighbours</div>\n",
    "</div>\n",
    "\n",
    "In this approximation, the Hamiltonian of the Ising Model can be written as:   \n",
    "$\\large H = - \\sum_{\\langle i,j\\rangle} J_{ij}\\sigma_i \\sigma_j - \\sum_{i} h \\sigma_i$\n",
    "\n",
    "where $J_{ij}$ the strength of spin-spin interaction (for simplicity we consider here \n",
    "a square model with a constant $J=J_{ij}$); $\\langle i,j\\rangle$ indicates summing on \n",
    "all nearest-neighbour pairs $(i, j)$; $h$ is an external field (we will consider no \n",
    "external field, $h=0$, in the following); and $\\sigma_i$ is the spin at site $i$, \n",
    "that can take either the value $+1$ for a spin up, or $-1$ for a spin down.\n",
    "</details>"
   ]
  },
  {
   "cell_type": "markdown",
   "id": "8c026957-3c3c-41cf-9f32-071708eb5e00",
   "metadata": {},
   "source": [
    " ## Metropolis-Hastings\n",
    " In this notebook, we simulate properties using the Monte Carlo method\n",
    "    with a Metropolis-Hastings algorithm.\n",
    "\n",
    "A description of the Metropolis-Hastings algorithm can be found in the\n",
    "    <a href=\"../monte_carlo_parabolic.ipynb\">\n",
    "        notebook on Monte Carlo simulations to \n",
    "    sample the canonical distribution</a>.\n",
    "\n",
    "Note that every \"step\", here, represents a full sweep of all spins, with one \n",
    "    actual Monte Carlo step per spin, where the move consists in flipping (accepted move) \n",
    "    or not flipping (rejected move) the spin. Spins are traversed in a checkerboard pattern: \n",
    "    first all spins with (even, even) coordinates are considered, then (even, odd), \n",
    "    then (odd, even), and finally (odd, odd). When all spins have been considered, \n",
    "    the \"step\" is considered as complete."
   ]
  },
  {
   "cell_type": "markdown",
   "id": "e55de851-6928-40a4-b96e-68e110b46832",
   "metadata": {},
   "source": [
    "## The Curie temperature\n",
    "The Curie temperature ($T_C$) is the temperature \n",
    "    at which a material loses its permanent magnetic characteristics.\n",
    "    The Curie temperature is named after the French physicist Pierre Curie.\n",
    "\n",
    "In order to estimate $T_C$ from our simulations of the Ising model, we\n",
    "    can perform simulations in a range of temperatures. For each simulation,\n",
    "    we can run long enough to thermalize the simulation and obtain the stable \n",
    "    spin configuration and the corresponding value of the magnetization per spin.\n",
    "    We can then plot the magnetization per spin as a function of temperature $T$. \n",
    "    We expect that the magnetization per spin starts at 1 for $T=0$ and decreases\n",
    "    for increasing $T$. At $T_C$, the magnetization will drop to zero and remain\n",
    "    zero at higher temperatures.\n",
    "\n",
    "Note that for a finite-size system, fluctuations will be present: therefore\n",
    "    simulations for the same parameters will not give all the same result; rather,\n",
    "    results will be distributed around the expected value.\n",
    "    The magnitude of the fluctuations depends on the system size (larger fluctuations\n",
    "    for smaller systems) and on how close are to the Curie temperature.\n",
    "    We note, in particular, that one can obtain the magnetic susceptibility from the fluctuations\n",
    "    of the magnetization. The magnetic susceptibility will diverge for $T=T_c$ (i.e.,\n",
    "    fluctuations will be very large close to the Curie temperature).\n"
   ]
  }
 ],
 "metadata": {
  "kernelspec": {
   "display_name": "Python 3 (ipykernel)",
   "language": "python",
   "name": "python3"
  },
  "language_info": {
   "codemirror_mode": {
    "name": "ipython",
    "version": 3
   },
   "file_extension": ".py",
   "mimetype": "text/x-python",
   "name": "python",
   "nbconvert_exporter": "python",
   "pygments_lexer": "ipython3",
   "version": "3.9.7"
  }
 },
 "nbformat": 4,
 "nbformat_minor": 5
}
