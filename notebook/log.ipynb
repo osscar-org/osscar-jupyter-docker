{
 "cells": [
  {
   "cell_type": "markdown",
   "id": "7d80b54d-c6a0-4ca8-8058-1a6f0bbfb772",
   "metadata": {},
   "source": [
    "# **App Usage Statistics**"
   ]
  },
  {
   "cell_type": "code",
   "execution_count": null,
   "id": "cf327ecd-172f-4e02-b9c5-5cab59e03974",
   "metadata": {},
   "outputs": [],
   "source": [
    "import pandas as pd\n",
    "import plotly.graph_objects as go\n",
    "from ipywidgets import Button, Output"
   ]
  },
  {
   "cell_type": "code",
   "execution_count": null,
   "id": "cf40a004-e27d-411f-a11b-7e81588a83d2",
   "metadata": {},
   "outputs": [],
   "source": [
    "data = pd.read_csv('log.dat', header=None, delimiter=r\"\\s+\")"
   ]
  },
  {
   "cell_type": "code",
   "execution_count": null,
   "id": "a05a353d-e1e8-42d1-ad70-a58433d96978",
   "metadata": {},
   "outputs": [],
   "source": [
    "output = Output()\n",
    "\n",
    "def show_tail():\n",
    "    with output:\n",
    "        output.clear_output()\n",
    "        data = pd.read_csv('log.dat', header=None, delimiter=r\"\\s+\")\n",
    "        display(data.tail())\n",
    "        \n",
    "show_tail()\n",
    "display(output)"
   ]
  },
  {
   "cell_type": "code",
   "execution_count": null,
   "id": "936e631c-52c8-4788-a7c3-e4f3ee832a8c",
   "metadata": {},
   "outputs": [],
   "source": [
    "bt = data[3].value_counts()"
   ]
  },
  {
   "cell_type": "code",
   "execution_count": null,
   "id": "038d6f4c-ddda-425b-bb23-4aa14df9dd07",
   "metadata": {},
   "outputs": [],
   "source": [
    "colors = ['gold', 'mediumturquoise', 'darkorange']\n",
    "\n",
    "fig = go.FigureWidget(data=[go.Pie(labels=['Histogram', 'Smearing', 'Tetrahedra'],\n",
    "                             values=[bt['Histogram'], bt['Smearing'], bt['Tetrahedra']])])\n",
    "fig.update_traces(hoverinfo='label+percent', textinfo='value', textfont_size=20,\n",
    "                  marker=dict(colors=colors, line=dict(color='#000000', width=2)))\n",
    "\n",
    "fig.update_layout(\n",
    "    title_text='Statistics of the button clicking')\n",
    "\n",
    "fig1 = go.FigureWidget(data=[go.Histogram(x=data[4].tolist(),\n",
    "                            xbins=dict(start=3.5, end=25, size=1))])\n",
    "\n",
    "fig1.update_layout(\n",
    "    title_text='Histogram of the nkpt slider')\n",
    "\n",
    "display(fig)\n",
    "display(fig1)"
   ]
  },
  {
   "cell_type": "code",
   "execution_count": null,
   "id": "33869c40-6413-4f4f-abc9-f73a59999556",
   "metadata": {},
   "outputs": [],
   "source": [
    "def on_update(c):\n",
    "    data = pd.read_csv('log.dat', header=None, delimiter=r\"\\s+\")\n",
    "    bt = data[3].value_counts()\n",
    "    fig.data[0].values = [bt['Histogram'], bt['Smearing'], bt['Tetrahedra']]\n",
    "    fig1.data[0].x = data[4].tolist()\n",
    "    show_tail()\n",
    "\n",
    "update = Button(description=\"Update\")\n",
    "update.on_click(on_update)\n",
    "display(update)"
   ]
  },
  {
   "cell_type": "code",
   "execution_count": null,
   "id": "ac787682-54a2-42eb-bf92-1aac143dc76e",
   "metadata": {},
   "outputs": [],
   "source": []
  }
 ],
 "metadata": {
  "kernelspec": {
   "display_name": "Python 3",
   "language": "python",
   "name": "python3"
  },
  "language_info": {
   "codemirror_mode": {
    "name": "ipython",
    "version": 3
   },
   "file_extension": ".py",
   "mimetype": "text/x-python",
   "name": "python",
   "nbconvert_exporter": "python",
   "pygments_lexer": "ipython3",
   "version": "3.8.8"
  },
  "voila": {
   "authors": "Dou Du and Giovanni Pizzi",
   "passwd": "dos"
  }
 },
 "nbformat": 4,
 "nbformat_minor": 5
}
