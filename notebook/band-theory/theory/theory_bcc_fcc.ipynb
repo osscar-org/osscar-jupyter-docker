{
 "cells": [
  {
   "cell_type": "markdown",
   "id": "2d50342b-9c19-422c-987d-39339b073b6a",
   "metadata": {},
   "source": [
    "# **Background Theory**: 1st Brillouin Zone of A Face Centered Cubic and A Body Centered Cubic\n",
    "\n",
    "<i class=\"fa fa-book fa-2x\"></i><a href=\"../bcc_fcc.ipynb\" style=\"font-size: 20px\"> Go back to the interactive notebook</a>\n",
    "\n",
    "**Source code:** https://github.com/osscar-org/quantum-mechanics/blob/develop/notebook/band-theory/theory/theory_bcc_fcc.ipynb\n",
    "\n",
    "<hr style=\"height:1px;border:none;color:#cccccc;background-color:#cccccc;\" />"
   ]
  },
  {
   "cell_type": "markdown",
   "id": "59c4b88b-5b8a-4f06-8703-a8699cacebfd",
   "metadata": {},
   "source": [
    "## **Introduction**\n",
    "\n",
    "In solid-state systems, atoms are repeatedly presented in patterns in three-dimensional space. The lattice structure is employed to describe the periodical properties of the solid-state systems and materials. Unit cells are the simplest repeating unit in a crystal. We demonstrate the two most typical unit cells, namely body-centered cubic, and face-centered cubic. \n",
    "\n",
    "X-ray diffraction is an experimental technique to characterize the sample of the material. The intense peaks of scattered radiation can be observed from the x-ray diffraction. The reciprocal lattice is constructed mathematically from the x-ray diffraction. Furthermore, the Wigner-Seitz primitive cell can be constructed from the reciprocal space, which is called the Brillouin zone. The Brillouin zone plays an important role in the solid-state theory."
   ]
  },
  {
   "cell_type": "markdown",
   "id": "5708088b-061d-4158-be78-4a3f0166396c",
   "metadata": {},
   "source": [
    "## **BCC and FCC**\n",
    "\n",
    "The unit cell is the simplest repeating unit in the three-dimensional space of the crystal. In metals, atoms commonly arrange themselves into the body-centered cubic (BCC) crystal structure. In the BCC crystal structure, one atom per lattice point is at each corner and the center of the cube as shown in the left figure below. BCC crystal is significantly stable since the nearly close-packed structure, which has a high number of nearest neighbors and next-nearest neighbors.\n",
    "\n",
    "The most common crystal structure is face-centered cubic (FCC), which has a single atom at each lattice point on the cube's corners and faces. FCC crystal structure has the highest packing density, which is one of the most stable crystal structures. The FCC crystal structure is shown in the right figure below."
   ]
  },
  {
   "cell_type": "code",
   "execution_count": null,
   "id": "9b969539-faa7-4b52-92ba-780a3e1790dc",
   "metadata": {},
   "outputs": [],
   "source": [
    "import nglview as nv\n",
    "from ipywidgets import HBox, HTML\n",
    "from ase.lattice.cubic import BodyCenteredCubic\n",
    "from ase.lattice.cubic import FaceCenteredCubic\n",
    "import numpy as np"
   ]
  },
  {
   "cell_type": "code",
   "execution_count": null,
   "id": "9e8065d9-91d1-478b-a3b4-7a1878339ca8",
   "metadata": {},
   "outputs": [],
   "source": [
    "atoms1 = BodyCenteredCubic(directions=[[1,0,0], [0,1,0], [0,0,1]],\n",
    "                          size=(2,2,2), symbol='Cu', pbc=(1,1,1),\n",
    "                          latticeconstant=3.0)\n",
    "\n",
    "atoms2 = FaceCenteredCubic(directions=[[1,0,0], [0,1,0], [0,0,1]],\n",
    "                          size=(2,2,2), symbol='Cu', pbc=(1,1,1),\n",
    "                          latticeconstant=3.0)"
   ]
  },
  {
   "cell_type": "code",
   "execution_count": null,
   "id": "d6f055ff-a9db-48e1-886d-35710ec1613a",
   "metadata": {},
   "outputs": [],
   "source": [
    "list1 = [];\n",
    "\n",
    "for i, j in enumerate(atoms1):\n",
    "    if max(j.position) > 3.0:\n",
    "        list1.append(i)\n",
    "        \n",
    "for i in reversed(list1):\n",
    "    atoms1.pop(i)\n",
    "    \n",
    "list2 = [];\n",
    "\n",
    "for i, j in enumerate(atoms2):\n",
    "    if max(j.position) > 3.0:\n",
    "        list2.append(i)\n",
    "        \n",
    "for i in reversed(list2):\n",
    "    atoms2.pop(i)"
   ]
  },
  {
   "cell_type": "code",
   "execution_count": null,
   "id": "88982dcd-145f-48c9-81f8-15bc508312ae",
   "metadata": {},
   "outputs": [],
   "source": [
    "m1 = nv.NGLWidget(width='400px', height='400px')\n",
    "m2 = nv.NGLWidget(width='400px', height='400px')\n",
    "\n",
    "m1.background='white'\n",
    "m2.background='white'\n",
    "\n",
    "m1.add_component(nv.ASEStructure(atoms1))\n",
    "m1.clear()\n",
    "m1.add_ball_and_stick()\n",
    "\n",
    "for i in np.arange(len(atoms1)-1):\n",
    "    for j in np.arange(i+1, len(atoms1)):\n",
    "        v1 = atoms1[i].position - atoms1[j].position\n",
    "        if np.linalg.norm(v1) > 3.0:\n",
    "            continue\n",
    "        if (np.dot(v1, np.array([1, 0, 0])) == 0.0 \n",
    "        or np.dot(v1, np.array([0, 1, 0])) == 0.0 \n",
    "        or np.dot(v1, np.array([0, 0, 1])) == 0.0):\n",
    "            m1.shape.add_cylinder(atoms1[i].position.tolist(), atoms1[j].position.tolist(), [1, 0, 0], 0.1)\n",
    "        \n",
    "m2.add_component(nv.ASEStructure(atoms2))\n",
    "m2.clear()\n",
    "m2.add_ball_and_stick()\n",
    "\n",
    "for i in np.arange(len(atoms2)-1):\n",
    "    for j in np.arange(i+1, len(atoms2)):\n",
    "        v2 = atoms2[i].position - atoms2[j].position\n",
    "        if np.linalg.norm(v2) > 3.0 or np.linalg.norm(v2) < 3.0:\n",
    "            continue\n",
    "        if (np.dot(v2, np.array([1, 0, 0])) == 0.0 \n",
    "        or np.dot(v2, np.array([0, 1, 0])) == 0.0 \n",
    "        or np.dot(v2, np.array([0, 0, 1])) == 0.0):\n",
    "            m2.shape.add_cylinder(atoms2[i].position.tolist(), atoms2[j].position.tolist(), [1, 0, 0], 0.1)\n",
    "        "
   ]
  },
  {
   "cell_type": "code",
   "execution_count": null,
   "id": "bb6da3ab-eff3-49e8-81cd-0168a1b2ad92",
   "metadata": {},
   "outputs": [],
   "source": [
    "label1 = HTML(value = f\"<div style='width: 400px; text-align:center;'><b><font color='black'><font size=5>Body Centered Cubic</b></div>\")\n",
    "label2 = HTML(value = f\"<div style='width: 400px; text-align:center;'><b><font color='black'><font size=5>Face Centered Cubic</b></div>\")\n",
    "\n",
    "display(HBox([label1, label2]), HBox([m1, m2]))"
   ]
  },
  {
   "cell_type": "markdown",
   "id": "66122b41-af88-4ccd-a1a4-fb6baac7a8e8",
   "metadata": {},
   "source": [
    "## **Reciprocal lattice**\n",
    "\n"
   ]
  },
  {
   "cell_type": "markdown",
   "id": "f49c2b99-7eea-47a0-8b23-60ab66eb4869",
   "metadata": {},
   "source": [
    "## **Brillouin zone**"
   ]
  },
  {
   "cell_type": "code",
   "execution_count": null,
   "id": "6a8ce58f-d8f8-4f78-9731-94c5b1422d15",
   "metadata": {},
   "outputs": [],
   "source": []
  }
 ],
 "metadata": {
  "kernelspec": {
   "display_name": "Python 3 (ipykernel)",
   "language": "python",
   "name": "python3"
  },
  "language_info": {
   "codemirror_mode": {
    "name": "ipython",
    "version": 3
   },
   "file_extension": ".py",
   "mimetype": "text/x-python",
   "name": "python",
   "nbconvert_exporter": "python",
   "pygments_lexer": "ipython3",
   "version": "3.8.8"
  }
 },
 "nbformat": 4,
 "nbformat_minor": 5
}
