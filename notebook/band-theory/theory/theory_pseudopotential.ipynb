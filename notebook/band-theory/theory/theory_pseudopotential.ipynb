{
 "cells": [
  {
   "cell_type": "markdown",
   "id": "d0e88f5c-160d-49b3-9a12-f8b27d2f8ae3",
   "metadata": {},
   "source": [
    "# **Background Theory**: Norm-conserving Pseudopotentials\n",
    "\n",
    "<i class=\"fa fa-book fa-2x\"></i><a href=\"../pseudopotential.ipynb\" style=\"font-size: 20px\"> Go back to the interactive notebook</a>\n",
    "\n",
    "**Source code:** https://github.com/osscar-org/quantum-mechanics/blob/master/notebook/band-theory/theory/theory_pseudopotential.ipynb\n",
    "\n",
    "<hr style=\"height:1px;border:none;color:#cccccc;background-color:#cccccc;\" />"
   ]
  },
  {
   "cell_type": "markdown",
   "id": "cf3d7e32-40d7-4c45-ac95-624495ee011f",
   "metadata": {},
   "source": [
    "## **Introduction**\n",
    "\n",
    "Many methods have been developed in the past decades to construct effective \n",
    "pseudopotentials. In 1979, Hamann, Schlüter, and Chiang introduced the concept \n",
    "of norm-conserving pseudopotentials \n",
    "[<a href=\"https://doi.org/10.1103/PhysRevLett.43.1494\">Phys. Rev. Lett. 43, 1494, (1979)</a>].\n",
    "Here, we present one simple norm-conserving method, introduced by G. P. Kerker [<a href=\"https://doi.org/10.1088/0022-3719/13/9/004\">J. Phys. C 13, L189 (1980)</a>].\n",
    "The theory and method is also discussed in detail in Chapter 5 of the book\n",
    "<a href=\"https://www.sciencedirect.com/book/9780123850300/solid-state-physics\">\"Solid \n",
    "State Physics (Second Edition)\"</a> by Giuseppe Grosso and Giuseppe Pastori Parravicini, \n",
    "Academic Press (2014)."
   ]
  },
  {
   "cell_type": "markdown",
   "id": "d211b313-4739-4c46-8217-a08e7267ab76",
   "metadata": {},
   "source": [
    "<summary style=\"font-size: 20px\">Radial Schrödinger equation</summary>\n",
    "\n",
    "The radial Schrödinger equation is:\n",
    "\n",
    "$$\\large \\left[\n",
    "  -\\dfrac 1 2\\, \\dfrac{\\partial^2}{\\partial r^{2}} + \n",
    "  \\dfrac{l(l+1)}{2r^2} + V(r)\\right] r R_{nl}(r) = E_{nl}rR_{nl}(r)\\quad (1)$$\n",
    "  \n",
    "The top panel (in the first figure of the interactive notebook) shows both $rR_{nl}(r)$ and \n",
    "$rR^{PS}_{nl}(r)$, where $R_{nl}(r)$ is the radial part of the wavefunction \n",
    "(the angular part being given by a spherical harmonic) and $R_{nl}^{PS}(r)$ is the pseudowavefunction. \n",
    "$R_{nl}^{PS}(r)$ is the solution of the same equation \n",
    "above when the real potential $V(r)$ is replaced by the pseudopotential \n",
    "$V^{PS}(r)$ (with the same eigenvalue $E_{nl}$)."
   ]
  },
  {
   "cell_type": "markdown",
   "id": "e0b88001-e2c2-4b9c-8107-427f4ee97082",
   "metadata": {},
   "source": [
    "## **Conditions for the pseudowavefunctions**\n",
    "\n",
    "The main idea is to avoid trying to construct directly a pseudopotential; \n",
    "rather, we first construct a pseudowavefunction that satisfies several conditions, namely:\n",
    "    \n",
    "<ol>\n",
    "    <li> The pseudowavefunction is nodeless (ensuring that pseudowavefunctions with lower energy cannot exist), and is identical to the real wavefunction beyond a cutoff radius $R_c$</li>\n",
    "    <li> The pseudowavefunction and its first and second derivatives are continuous at $R_c$</li>\n",
    "    <li> The pseudowavefunction has the same norm as the real wavefunction (norm-conserving condition)</li>\n",
    " </ol>\n",
    "    <li> Therefore, an important parameter is the cutoff radius $R_c$. This can be adjusted using a slider in the interactive notebook.</li>\n"
   ]
  },
  {
   "cell_type": "markdown",
   "id": "7165d239-4f2a-4111-a3ad-ad188e99d070",
   "metadata": {},
   "source": [
    "## **Form of the pseudowavefunction**\n",
    "\n",
    "One needs to replace the wavefunction in the core region with a smooth \n",
    "and nodeless function. Kerker suggested to use a polynomial form to \n",
    "replace the core region wavefunction, in particular using the expression:\n",
    "\n",
    "$$ \\large  R^{PS}_{nl}(r) =\n",
    "    \\begin{cases}\n",
    "      r^le^{p(r)}  & \\text{for }r < R_c \\\\\n",
    "      R_{nl}(r) & \\text{for }r > R_c\n",
    "    \\end{cases}       \n",
    "$$\n",
    "    \n",
    "where $p(r)$ is a polynomial defined as:\n",
    "\n",
    "$$ \\large p(r) = \\lambda_0 + \\sum_{n=2}^{N} \\lambda_n r^n $$\n",
    "\n",
    "In this polynomial, the first-order coefficient $\\lambda_1$ is set to be zero, \n",
    "preventing the pseudopotential from being singular at $r=0$. \n",
    "In this notebook, we choose to use a 4-th order polynomial (i.e., $N=4$, \n",
    "as originally suggested by Kerker):\n",
    "\n",
    "$$ \\large p(r) = \\lambda_0 + \\lambda_2 r^2 + \\lambda_3 r^3 + \\lambda_4 r^4 $$"
   ]
  },
  {
   "cell_type": "markdown",
   "id": "154972d0-10f8-45ed-bfb8-deee747ba96c",
   "metadata": {},
   "source": [
    "## **Conditions for the polynomial coefficients**\n",
    "\n",
    "We need four equations to solve and obtain the coefficients \n",
    "($\\lambda_0$, $\\lambda_2$, $\\lambda_3$, $\\lambda_4$). \n",
    "These can be obtained by imposing the four conditions discussed earlier: \n",
    "continuity at $R_c$ of $R^{PS}_{nl}(r)$ and its first and second derivative; \n",
    "and norm conservation (note: since when $r > R_c$ the two wavefunctions \n",
    "are the same, we only need to integrate from zero to $R_c$):\n",
    "\n",
    "$$\\Large \\int_0^{R_c} R_{nl}(r)^2r^2 dr = \\int_0^{R_c} R_{nl}^{PS}(r)^2r^2 dr$$\n",
    "\n",
    "These two integrals are shown as yellow and green shaded areas of the figure in the interactive notebook."
   ]
  },
  {
   "cell_type": "markdown",
   "id": "51001db5-87ea-4c8d-88bb-241f65a45e5c",
   "metadata": {},
   "source": [
    "## **Obtain the pseudopotential**\n",
    "\n",
    "Once we obtain the pseudowavefunction, the pseudopotential is \n",
    "calculated numerically by inverting the Schrödinger equation. \n",
    "Starting from Eq. (1), the equation to solve is, therefore:\n",
    "\n",
    "$$\\large V^{PS}(r) = E_{nl} - \\dfrac{l(l+1)}{2r^2} + \\dfrac{1}{2rR_{nl}^{PS}(r)}\n",
    "\\dfrac{\\partial^2 [rR_{nl}^{PS}(r)]}{\\partial r^{2}}$$\n",
    "\n",
    "Note how one obtains a different pseudopotential for each angular momentum!"
   ]
  },
  {
   "cell_type": "markdown",
   "id": "596f0e88-e189-400f-b2d2-f4d1f3fe119b",
   "metadata": {},
   "source": [
    "## **Transferability of pseudopotentials**\n",
    "\n",
    "The transferability of pseudopotentials means that a pseudopotential \n",
    "generated from a given atomic configuration should also work when used with different atomic configurations and a variety of other solid-state environments. This \n",
    "is an important property for the use of pseudopotentials in real material systems.\n",
    "\n",
    "The transferability of pseudopotentials can be measured by comparing the logarithmic\n",
    "derivatives, at the cutoff distance $r_c$, of pseudo- and all-electron wavefunctions,\n",
    "respectively.\n",
    "    \n",
    "$$\\large \\frac{1}{\\psi^{PS}(r_c, E)} \\frac{d\\psi^{PS}(r_c, E)}{dr} = \n",
    "\\frac{1}{\\psi(r_c, E)} \\frac{d\\psi(r_c, E)}{dr}$$\n",
    "\n",
    "By using Green's theorem, Shaw and Harrison showed the following\n",
    "relation [<a href=\"https://journals.aps.org/pr/abstract/10.1103/PhysRev.163.604\">\n",
    "Phys. Rev. 163, 604, (1967)</a>]:\n",
    "    \n",
    "$$\\large -\\frac{\\partial}{\\partial E}\\frac{\\partial}{\\partial r}\\ln \\psi(r_c, E) =\n",
    "\\frac{1}{r_c^2\\psi^*(r_c, E)\\psi(r_c, E)}\\int_0^{r_c} dr\\ r^2 \\psi^*(r_c, E)\\psi(r_c, E)$$\n",
    "\n",
    "On the right side of the equation is the integral of the square of the wavefunction.\n",
    "The norm-conservation condition ensures the integrals are the same for both pseudo- and full \n",
    "electron wavefunctions. One can conclude from the left side that the pseudo- and full \n",
    "electron wavefunctions also have the same value of the 1st derivative of the logarithmic \n",
    "derivative with respect to the energy."
   ]
  },
  {
   "cell_type": "code",
   "execution_count": null,
   "id": "e69b3fd9-1886-4024-8a71-806581ddba80",
   "metadata": {},
   "outputs": [],
   "source": []
  }
 ],
 "metadata": {
  "kernelspec": {
   "display_name": "Python 3 (ipykernel)",
   "language": "python",
   "name": "python3"
  },
  "language_info": {
   "codemirror_mode": {
    "name": "ipython",
    "version": 3
   },
   "file_extension": ".py",
   "mimetype": "text/x-python",
   "name": "python",
   "nbconvert_exporter": "python",
   "pygments_lexer": "ipython3",
   "version": "3.9.12"
  }
 },
 "nbformat": 4,
 "nbformat_minor": 5
}
